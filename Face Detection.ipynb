{
 "cells": [
  {
   "cell_type": "code",
   "execution_count": 2,
   "metadata": {},
   "outputs": [],
   "source": [
    "import cv2\n",
    "import requests\n",
    "import base64"
   ]
  },
  {
   "cell_type": "code",
   "execution_count": 3,
   "metadata": {},
   "outputs": [],
   "source": [
    "def face_detect(frame):\n",
    "    face_classifier = cv2.CascadeClassifier(cv2.data.haarcascades + \"haarcascade_frontalface_alt2.xml\")\n",
    "    face = face_classifier.detectMultiScale(frame, scaleFactor=1.1, minNeighbors=5, minSize=(40, 40))\n",
    "    for (x, y, w, h) in face:\n",
    "        cv2.rectangle(frame, (x, y), (x + w, y + h), (0, 255, 0), 4)\n",
    "        alert_msg(frame)\n",
    "    return frame"
   ]
  },
  {
   "cell_type": "code",
   "execution_count": 5,
   "metadata": {},
   "outputs": [],
   "source": [
    "def alert_msg(frame):\n",
    "    TELEGRAM_API_TOKEN = '6785738965:AAHc4ZrM8peG9tBWluMCisuxXptiXkR7ms8'\n",
    "    TELEGRAM_CHAT_ID = '1165005933'\n",
    "    \n",
    "    image_path = 'detected_face.jpg'\n",
    "    cv2.imwrite(image_path, frame)   \n",
    "    \n",
    "    files = {'photo': open(image_path, 'rb')}\n",
    "    caption = \"Intruder Alert! Face detected!\"\n",
    "    telegram_url = f'https://api.telegram.org/bot{TELEGRAM_API_TOKEN}/sendPhoto'\n",
    "    params = {'chat_id': TELEGRAM_CHAT_ID, 'caption': caption}\n",
    "        \n",
    "    try:\n",
    "        response = requests.post(telegram_url, params=params, files=files)\n",
    "        print(f\"Telegram API Response: {response.json()}\")\n",
    "    except requests.RequestException as e:\n",
    "        print(f\"Error sending image to Telegram: {e}\")"
   ]
  },
  {
   "cell_type": "code",
   "execution_count": 6,
   "metadata": {},
   "outputs": [
    {
     "name": "stdout",
     "output_type": "stream",
     "text": [
      "Telegram API Response: {'ok': True, 'result': {'message_id': 93, 'from': {'id': 6785738965, 'is_bot': True, 'first_name': 'Intruder Alert Bot', 'username': 'cptallertbot'}, 'chat': {'id': 1165005933, 'first_name': 'CPT', 'username': 'cpt1909', 'type': 'private'}, 'date': 1707471972, 'photo': [{'file_id': 'AgACAgUAAxkDAANdZcX0ZF0yGHp5KjkJAs0mmXb2UFIAAoe-MRujTjBWnR6Twehaq54BAAMCAANzAAM0BA', 'file_unique_id': 'AQADh74xG6NOMFZ4', 'file_size': 1387, 'width': 90, 'height': 67}, {'file_id': 'AgACAgUAAxkDAANdZcX0ZF0yGHp5KjkJAs0mmXb2UFIAAoe-MRujTjBWnR6Twehaq54BAAMCAANtAAM0BA', 'file_unique_id': 'AQADh74xG6NOMFZy', 'file_size': 15113, 'width': 320, 'height': 240}, {'file_id': 'AgACAgUAAxkDAANdZcX0ZF0yGHp5KjkJAs0mmXb2UFIAAoe-MRujTjBWnR6Twehaq54BAAMCAAN4AAM0BA', 'file_unique_id': 'AQADh74xG6NOMFZ9', 'file_size': 47773, 'width': 640, 'height': 480}], 'caption': 'Intruder Alert! Face detected!'}}\n"
     ]
    }
   ],
   "source": [
    "vid = cv2.VideoCapture(0)\n",
    "while(True): \n",
    "\tret, frame = vid.read()\n",
    "\tcv2.imshow('Web Cam', face_detect(frame))\n",
    "\tbreak\n",
    "\tif cv2.waitKey(1) & 0xFF == ord('q'): \n",
    "\t\tbreak\n",
    "vid.release()\n",
    "cv2.destroyAllWindows()"
   ]
  }
 ],
 "metadata": {
  "kernelspec": {
   "display_name": "Python 3",
   "language": "python",
   "name": "python3"
  },
  "language_info": {
   "codemirror_mode": {
    "name": "ipython",
    "version": 3
   },
   "file_extension": ".py",
   "mimetype": "text/x-python",
   "name": "python",
   "nbconvert_exporter": "python",
   "pygments_lexer": "ipython3",
   "version": "3.12.1"
  }
 },
 "nbformat": 4,
 "nbformat_minor": 2
}
